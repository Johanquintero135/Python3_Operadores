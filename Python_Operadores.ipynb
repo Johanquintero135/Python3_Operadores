{
 "cells": [
  {
   "cell_type": "code",
   "execution_count": 19,
   "id": "5d8bb927",
   "metadata": {},
   "outputs": [],
   "source": [
    "variable = \"Instalacion exitosa\""
   ]
  },
  {
   "cell_type": "code",
   "execution_count": 20,
   "id": "ffc26170",
   "metadata": {},
   "outputs": [
    {
     "name": "stdout",
     "output_type": "stream",
     "text": [
      "27\n",
      "Sabado\n",
      "3.3333333333333335\n"
     ]
    }
   ],
   "source": [
    "DiaDeLaSemana= 'Sabado'\n",
    "calendario= 27\n",
    "print(calendario )\n",
    "print (DiaDeLaSemana)\n",
    "\n",
    "Matematicas = 10\n",
    "Division= 3\n",
    "print(Matematicas/Division)"
   ]
  },
  {
   "cell_type": "code",
   "execution_count": 21,
   "id": "a9045b3d",
   "metadata": {},
   "outputs": [
    {
     "name": "stdout",
     "output_type": "stream",
     "text": [
      "Hola Buenas Tardes Mi lenguaje es: Python\n",
      "<class 'str'>\n",
      "<class 'str'>\n",
      "<class 'str'>\n",
      "<class 'str'>\n",
      "<class 'str'>\n"
     ]
    }
   ],
   "source": [
    "#https://www.python.org/\n",
    "#comentario en una linea \n",
    "'''\n",
    "Comentarios en varias lineas \n",
    "'''\n",
    "\n",
    "Animal= \"Perro\"\n",
    "Saludo=\"Hola Buenas Tardes\"\n",
    "Definicion= \" Mi lenguaje es:\"\n",
    "LenguajeDeProgramaciòn= \" Python\"\n",
    "const = \"Gato\"\n",
    "NumeroInit =10\n",
    "NumeroFloat= 1.10\n",
    "NumeroBoolean= True\n",
    "NumeroBoolean2=False\n",
    "String=\"Cadena de texto\"\n",
    "OtraString=\"Otra cadena de texto\"\n",
    " \n",
    "print (Saludo+Definicion+LenguajeDeProgramaciòn)\n",
    "print(type( Animal))\n",
    "print(type( Saludo))\n",
    "print(type(Definicion))\n",
    "print(type(LenguajeDeProgramaciòn))\n",
    "print(type(const))"
   ]
  },
  {
   "cell_type": "code",
   "execution_count": null,
   "id": "552b628c",
   "metadata": {},
   "outputs": [
    {
     "name": "stdout",
     "output_type": "stream",
     "text": [
      "Suma de 10+20 = 30\n",
      "Multiplicacion de 20 * 80 = 1600\n",
      "Resta de 600000 - 303039 =296961\n",
      "Division de 80/30 = 2.0\n",
      "Potencia de 44**40 = 547150826329050817707232047731001563323399357039042635859624984576 \n",
      "El desucuento de 30% sobre 32.900 es, primero valor = 9.87, con esto se saca el segundo valor final que es = 23.03 entonces el resultado es 23.03 \n",
      "Divison entera de 80//30 es = 2\n",
      "Igualdad:10 ==3 es = False\n",
      "Desigualdad: 10 != 3 es = True\n",
      "Mayor que: 20 > 39 es = False\n",
      "Menor que: 20 < 39 es = True\n",
      "Mayor o igual que: 40 >= 80 es = False\n",
      "Mayor o igual que: 41 >= 40  es = True\n",
      "Menor o igual que: 98 <= 98 True\n",
      "Menor o igual que: 1000 <= 89 False\n",
      " And: 15-5 ==10 and 20 + 10 == 29 = False \n",
      " And: 15-5 ==10 and 20 + 10 == 30 = True \n",
      "Or ||: 45 + 45 == 90 or  50 + 30 == 50 or 80 - 10 == 20 True\n",
      "Or ||: 45 + 45 == 70 or  50 + 30 == 70 or 80 - 10 == 60 False\n",
      "NOT !: 20 + 80 == 90 False\n",
      "NOT !: not 20 + 80 == 90 True\n",
      "NOT !: not 20 + 80 == 90 False\n",
      "NOT !: 20 + 80 == 90 True\n",
      "15\n",
      "5\n",
      "50\n",
      "5.0\n",
      "5.0\n",
      "9765625.0\n",
      "976562.0\n",
      "'u' in 'Europa'= True\n",
      "'S' in 'Valentina'= False\n",
      "And: 10 & 3 = 2\n"
     ]
    }
   ],
   "source": [
    "#Operadores Aritmetricos:\n",
    "print (f\"Suma de 10+20 = {10 + 20 }\")\n",
    "print (f\"Multiplicacion de 20 * 80 = {20*80}\")\n",
    "print (f\"Resta de 600000 - 303039 ={600000 - 303039}\")\n",
    "print (f\"Division de 80/30 = {60/30}\")\n",
    "print (f\"Potencia de 44**40 = {44**40} \")\n",
    "print (f\"El desucuento de 30% sobre 32.900 es, primero valor = {32.900*0.30}, con esto se saca el segundo valor final que es = {32.900-9.87} entonces el resultado es 23.03 \")\n",
    "print (f\"Divison entera de 80//30 es = { 80//30}\")\n",
    "\n",
    "##Operadores de comparacion:\n",
    "print (f\"Igualdad:10 ==3 es = {10 ==3}\") #10 es igual a 3\n",
    "print (f\"Desigualdad: 10 != 3 es = {10 !=3}\") #10 es diferente a 3\n",
    "print (f\"Mayor que: 20 > 39 es = {20 > 39}\") #20 es mayor que 39\n",
    "print (f\"Menor que: 20 < 39 es = {20 < 39}\") #20 es menor que 39\n",
    "print (f\"Mayor o igual que: 40 >= 80 es = {40 >= 80}\") #40 es mayor o igaul a 80\n",
    "print (f\"Mayor o igual que: 41 >= 40  es = {41 >= 40}\") # 41 es mayor o igaul a 40\n",
    "print (f\"Menor o igual que: 98 <= 98 {98 <= 98}\") # 98 es menor o igaul que 98\n",
    "print (f\"Menor o igual que: 1000 <= 89 {1000 <= 89 }\") # 1000 es menor o igaul que 89\n",
    "\n",
    "###Operadores Lògicos:\n",
    "# 15 -5 es igual a 10 y 20 + 10 es igual a 29\n",
    "print (f\" And: 15-5 ==10 and 20 + 10 == 29 = {15-5 == 10 and 20 + 10 == 29} \") #El AND sirve para ver si dos condiciones son iguales, tambien se expresa como &&\n",
    "# 15 - 5 es igual a 10 y 20 + 10 es igual a 30\n",
    "print (f\" And: 15-5 ==10 and 20 + 10 == 30 = {15-5 == 10 and 20 + 10 == 30} \")\n",
    "\n",
    "# or solamente pide que una de las condiciones sean verdaderas (True) si todas son falso saldra (false)\n",
    "print (f\"Or ||: 45 + 45 == 90 or  50 + 30 == 50 or 80 - 10 == 20 {45 + 45 == 90 or 50 + 30 == 50 or 80 - 10 == 20 }\") \n",
    "print (f\"Or ||: 45 + 45 == 70 or  50 + 30 == 70 or 80 - 10 == 60 {45 + 45 == 70 or 50 + 30 == 70 or 80 - 10 == 60 }\") \n",
    "\n",
    "#Not !  lo que hace es invertir el valor de una expresion\n",
    "print (f\"NOT !: 20 + 80 == 90 {20 + 80 == 90}\")\n",
    "print (f\"NOT !: not 20 + 80 == 90 { not 20 + 80 == 90}\")\n",
    "print (f\"NOT !: not 20 + 80 == 90 { not 20 + 80 == 100}\")\n",
    "print (f\"NOT !: 20 + 80 == 90 {20 + 80 == 100}\")\n",
    "\n",
    "#Operadores de Asignacion \n",
    "\n",
    "Numero = 5 #Asignaciòn\n",
    "Numero += 10 #Suma y Asignacion\n",
    "print (Numero)\n",
    "Numero -= 10 #Resta y asignacion\n",
    "print (Numero)\n",
    "Numero *= 10 # Multiplicacion y asignacion\n",
    "print (Numero)\n",
    "Numero /= 10 #Division y asignacion \n",
    "print (Numero)\n",
    "Numero %= 10 # Modulo y asignacion \n",
    "print (Numero)\n",
    "Numero **= 10 # Pòtencia y asignacion\n",
    "print (Numero)\n",
    "Numero //= 10 # Division entera y asignacion \n",
    "print (Numero)\n",
    "\n",
    "\n",
    "#### Operadores de pertenencia \n",
    "#In lo que hace es que mira si la letra esta o no en una palabra \n",
    "print (f\"'u' in 'Europa'= {'u' in 'Europa'}\")\n",
    "print (f\"'S' in 'Valentina'= {'S' in 'Valentina'}\")\n",
    "\n",
    "##### Operadores Bit\n",
    "\n",
    "a = 10 # 1010\n",
    "b = 3 # 0011\n",
    "print (f\"And: 10 & 3 = {10 & 3}\") # 0010\n",
    "## Hay otros pero sigo luego \n"
   ]
  },
  {
   "cell_type": "code",
   "execution_count": null,
   "id": "a15ccba4",
   "metadata": {},
   "outputs": [],
   "source": []
  }
 ],
 "metadata": {
  "kernelspec": {
   "display_name": "Python 3",
   "language": "python",
   "name": "python3"
  },
  "language_info": {
   "codemirror_mode": {
    "name": "ipython",
    "version": 3
   },
   "file_extension": ".py",
   "mimetype": "text/x-python",
   "name": "python",
   "nbconvert_exporter": "python",
   "pygments_lexer": "ipython3",
   "version": "3.13.7"
  }
 },
 "nbformat": 4,
 "nbformat_minor": 5
}
